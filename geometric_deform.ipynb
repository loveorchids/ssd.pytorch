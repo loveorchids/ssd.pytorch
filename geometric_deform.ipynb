{
 "cells": [
  {
   "cell_type": "code",
   "execution_count": 1,
   "metadata": {},
   "outputs": [],
   "source": [
    "import matplotlib.pyplot as plt\n",
    "import matplotlib.patches as patches\n",
    "import cv2, os, glob, re, torch, random, time\n",
    "import numpy as np\n",
    "import imgaug\n",
    "from imgaug import augmenters\n",
    "import torch"
   ]
  },
  {
   "cell_type": "code",
   "execution_count": 2,
   "metadata": {},
   "outputs": [],
   "source": [
    "img = torch.ones(300, 300, 3).long() * 255\n",
    "prior = torch.tensor([[10, 10, 220, 280]]).float()\n",
    "reg = torch.tensor([[35, 45, 275, 225]]).float()"
   ]
  },
  {
   "cell_type": "code",
   "execution_count": 3,
   "metadata": {},
   "outputs": [],
   "source": [
    "def center_conv_point_vanilla(bboxes, kernel_size=3, c_min=0, c_max=1):\n",
    "    prior_centers = []\n",
    "    for bbox in bboxes:\n",
    "        c_x = bbox[2:] - bbox[:2]\n",
    "        x1, y1, x2, y2 = bbox.clamp(min=c_min, max=c_max)\n",
    "        # the gradient was not kept\n",
    "        step_x = float((x2 - x1) / kernel_size)\n",
    "        start_x = float(x1 + step_x / 2)\n",
    "        end_x = float(x2)\n",
    "        step_y = float((y2 - y1) / kernel_size)\n",
    "        start_y = float(y1 + step_y / 2)\n",
    "        end_y = float(y2)\n",
    "        prior_center = torch.meshgrid([torch.arange(start_x, end_x, step_x),\n",
    "                                       torch.arange(start_y, end_y, step_y)])\n",
    "        prior_center = torch.stack(prior_center, dim=-1).contiguous().view(-1)\n",
    "        prior_centers.append(prior_center)\n",
    "    return torch.stack(prior_centers, dim=0)   \n",
    "\n",
    "def center_conv_point_parallel(bboxes, kernel_size=3, c_min=0, c_max=1):\n",
    "    bboxes.clamp_(min=c_min, max=c_max)\n",
    "    base = torch.cat([bboxes[:, :2]] * (kernel_size ** 2), dim=1)\n",
    "    if bboxes.is_cuda:\n",
    "        multiplier = torch.tensor([(2 * i + 1) / kernel_size / 2 for i in range(kernel_size)]).cuda()\n",
    "    else:\n",
    "        multiplier = torch.tensor([(2 * i + 1) / kernel_size / 2 for i in range(kernel_size)])\n",
    "    multiplier = torch.stack(torch.meshgrid([multiplier, multiplier]), dim=-1).contiguous().view(-1)\n",
    "    multiplier = multiplier.unsqueeze(0).repeat(bboxes.size(0), 1)\n",
    "    center = torch.stack([bboxes[:, 2] - bboxes[:, 0], bboxes[:, 3] - bboxes[:, 1]], dim=-1)\n",
    "    center = torch.cat([center] * (kernel_size ** 2), dim=1)\n",
    "    return base + center * multiplier"
   ]
  },
  {
   "cell_type": "code",
   "execution_count": 4,
   "metadata": {},
   "outputs": [
    {
     "data": {
      "image/png": "[encoded data removed]",
      "text/plain": [
       "<Figure size 432x288 with 1 Axes>"
      ]
     },
     "metadata": {
      "needs_background": "light"
     },
     "output_type": "display_data"
    }
   ],
   "source": [
    "def plot_box(image, prior_box, reg_box):\n",
    "    image = image.data.numpy().astype(\"uint8\").copy()\n",
    "    \n",
    "    # get prior box and its inter conv points\n",
    "    prior_conv_center = center_conv_point_parallel(prior_box, c_max=300)\n",
    "    # Draw conv center\n",
    "    for coord in prior_conv_center.view(-1, 2):\n",
    "        cv2.circle(image, (int(coord[0]), int(coord[1])), 3, (255, 0, 0), 2)\n",
    "    prior_box = prior_box.long().data.numpy()\n",
    "    \n",
    "    # get regressed box and its regress conv points\n",
    "    reg_conv_center = center_conv_point_parallel(reg_box, c_max=300)\n",
    "    for coord in reg_conv_center.view(-1, 2):\n",
    "        cv2.circle(image, (int(coord[0]), int(coord[1])), 3, (0, 0, 255), 2)\n",
    "    reg_box = reg_box.long().data.numpy()\n",
    "    \n",
    "    # Draw the box out\n",
    "    x1, y1, x2, y2 = prior_box[0]\n",
    "    cv2.rectangle(image, (x1, y1), (x2, y2), (255, 0, 0), 2)\n",
    "    x1, y1, x2, y2 = reg_box[0]\n",
    "    cv2.rectangle(image, (x1, y1), (x2, y2), (0, 0, 255), 2)\n",
    "    plt.imshow(image)\n",
    "    return prior_conv_center, reg_conv_center\n",
    "prior_conv_center, reg_conv_center = plot_box(img, prior, reg)\n",
    "deformation_map = reg_conv_center - prior_conv_center"
   ]
  },
  {
   "cell_type": "code",
   "execution_count": 5,
   "metadata": {},
   "outputs": [
    {
     "name": "stdout",
     "output_type": "stream",
     "text": [
      "Ground truth:\n",
      "tensor([[0.5330, 0.0167, 0.5330,  ..., 0.0500, 0.6648, 0.0833],\n",
      "        [0.4636, 0.0717, 0.4636,  ..., 0.2152, 0.7969, 0.3587],\n",
      "        [0.5833, 0.4079, 0.5833,  ..., 0.5252, 0.9167, 0.6426],\n",
      "        ...,\n",
      "        [0.0224, 0.3457, 0.0224,  ..., 0.5123, 0.1119, 0.6790],\n",
      "        [0.0167, 0.0167, 0.0167,  ..., 0.0500, 0.0833, 0.0833],\n",
      "        [0.0657, 0.0833, 0.0657,  ..., 0.2500, 0.3287, 0.4167]])\n",
      "\n",
      "Parallel:\n",
      "tensor([[0.5330, 0.0167, 0.5330,  ..., 0.0500, 0.6648, 0.0833],\n",
      "        [0.4636, 0.0717, 0.4636,  ..., 0.2152, 0.7969, 0.3587],\n",
      "        [0.5833, 0.4079, 0.5833,  ..., 0.5252, 0.9167, 0.6426],\n",
      "        ...,\n",
      "        [0.0224, 0.3457, 0.0224,  ..., 0.5123, 0.1119, 0.6790],\n",
      "        [0.0167, 0.0167, 0.0167,  ..., 0.0500, 0.0833, 0.0833],\n",
      "        [0.0657, 0.0833, 0.0657,  ..., 0.2500, 0.3287, 0.4167]],\n",
      "       device='cuda:0')\n"
     ]
    },
    {
     "data": {
      "text/plain": [
       "tensor(-3.7998e-06, device='cuda:0')"
      ]
     },
     "execution_count": 5,
     "metadata": {},
     "output_type": "execute_result"
    }
   ],
   "source": [
    "kernel_size = 3\n",
    "n_sample = 1024\n",
    "base = torch.randn(n_sample, 2).clamp(min=0, max=0.5)\n",
    "bboxes = torch.cat([base, base + torch.randn(n_sample, 2).clamp(min=0.1, max=0.5)], dim=1).contiguous().cuda()\n",
    "print(\"Ground truth:\")\n",
    "print(center_conv_point_vanilla(bboxes))\n",
    "print(\"\")\n",
    "print(\"Parallel:\")\n",
    "print(center_conv_point_parallel(bboxes))\n",
    "\n",
    "torch.sum(center_conv_point_parallel(bboxes) - center_conv_point_vanilla(bboxes).cuda())"
   ]
  },
  {
   "cell_type": "code",
   "execution_count": 6,
   "metadata": {},
   "outputs": [
    {
     "data": {
      "text/plain": [
       "tensor([[0.0278, 0.0278, 0.0278, 0.0566, 0.0278, 0.0856, 0.0566, 0.0278, 0.0566,\n",
       "         0.0566, 0.0566, 0.0856, 0.0856, 0.0278, 0.0856, 0.0566, 0.0856, 0.0856]])"
      ]
     },
     "execution_count": 6,
     "metadata": {},
     "output_type": "execute_result"
    }
   ],
   "source": [
    "p = torch.tensor([[0.0133, 0.0133, 0.1000, 0.1000]])\n",
    "center_conv_point_parallel(p)"
   ]
  },
  {
   "cell_type": "code",
   "execution_count": 12,
   "metadata": {},
   "outputs": [],
   "source": [
    "best_prior_idx = torch.tensor([3, 3, 0, 1, 7, 7])\n",
    "best_truth_idx = torch.tensor([2, 3, 1, 0, 3, 4, 0, 5])"
   ]
  },
  {
   "cell_type": "code",
   "execution_count": 11,
   "metadata": {},
   "outputs": [
    {
     "data": {
      "text/plain": [
       "tensor([2, 3, 1, 1, 3, 4, 0, 5])"
      ]
     },
     "execution_count": 11,
     "metadata": {},
     "output_type": "execute_result"
    }
   ],
   "source": [
    "best_truth_idx[best_prior_idx] = torch.arange(best_prior_idx.size(0))\n",
    "best_truth_idx"
   ]
  },
  {
   "cell_type": "code",
   "execution_count": 13,
   "metadata": {},
   "outputs": [
    {
     "data": {
      "text/plain": [
       "tensor([2, 3, 1, 1, 3, 4, 0, 5])"
      ]
     },
     "execution_count": 13,
     "metadata": {},
     "output_type": "execute_result"
    }
   ],
   "source": [
    "for j in range(best_prior_idx.size(0)):\n",
    "    best_truth_idx[best_prior_idx[j]] = j\n",
    "best_truth_idx"
   ]
  }
 ],
 "metadata": {
  "kernelspec": {
   "display_name": "Python 3",
   "language": "python",
   "name": "python3"
  },
  "language_info": {
   "codemirror_mode": {
    "name": "ipython",
    "version": 3
   },
   "file_extension": ".py",
   "mimetype": "text/x-python",
   "name": "python",
   "nbconvert_exporter": "python",
   "pygments_lexer": "ipython3",
   "version": "3.5.2"
  }
 },
 "nbformat": 4,
 "nbformat_minor": 2
}
