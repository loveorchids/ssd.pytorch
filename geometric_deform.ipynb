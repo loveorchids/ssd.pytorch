{
 "cells": [
  {
   "cell_type": "code",
   "execution_count": 17,
   "metadata": {},
   "outputs": [],
   "source": [
    "import matplotlib.pyplot as plt\n",
    "import matplotlib.patches as patches\n",
    "import cv2, os, glob, re, torch, random, time\n",
    "import numpy as np\n",
    "import imgaug\n",
    "from imgaug import augmenters\n",
    "torch.set_default_tensor_type('torch.cuda.FloatTensor')"
   ]
  },
  {
   "cell_type": "code",
   "execution_count": 169,
   "metadata": {},
   "outputs": [],
   "source": [
    "img = torch.ones(500, 500, 3).long() * 255\n",
    "prior = torch.tensor([[100, 100, 340, 340]]).float() / 500\n",
    "reg = torch.tensor([[120, 120, 360, 300]]).float()/ 500"
   ]
  },
  {
   "cell_type": "code",
   "execution_count": 159,
   "metadata": {},
   "outputs": [],
   "source": [
    "def center_conv_point(bboxes, kernel_size=3, c_min=0, c_max=1):\n",
    "    \"\"\"In a parallel manner also keeps the gradient during BP\"\"\"\n",
    "    bboxes.clamp_(min=c_min, max=c_max)\n",
    "    ratios = (bboxes[:, 2] - bboxes[:, 0]) / (bboxes[:, 3] - bboxes[:, 1])\n",
    "    max_length = torch.max(torch.stack(((bboxes[:, 2] - bboxes[:, 0]), (bboxes[:, 3] - bboxes[:, 1])), dim=1), dim=1)[0]\n",
    "    #print(\"ratios\")\n",
    "    #print(ratios)\n",
    "    #print(max_length)\n",
    "    # ratios计算方法为宽高比，所以small_idx代表比较高的box\n",
    "    small_idx = ratios < 1\n",
    "    one_idx = (ratios >= 0.9) * (ratios <= 1.1)\n",
    "    # 将ratios中所有小于1的index取倒数\n",
    "    ratios[small_idx] = 1 / ratios[small_idx]\n",
    "    #offsets = ratios / (kernel_size ** 2)\n",
    "    #offsets = (torch.tanh(0.3 * (ratios - 5)) / 2 + 0.5) * max_length / (kernel_size ** 2)\n",
    "    offsets = torch.tanh(0.25 * ratios) * max_length / (kernel_size ** 2)\n",
    "    offsets[one_idx] = 0\n",
    "    offsets = offsets.unsqueeze(-1).repeat(1, 2 * kernel_size ** 2)\n",
    "    #print(\"offsets\")\n",
    "    #print(offsets)\n",
    "\n",
    "    assert kernel_size == 3, \"下方的偏移量是为kernel size为3时设计的\"\n",
    "    distortion = torch.FloatTensor([-1, 0, -1, 0, -1, 0, 0, 0, 0, 0, 0, 0, 1, 0, 1, 0, 1, 0]).cuda(bboxes.device.index)\n",
    "    distortion2 = distortion.view(kernel_size, kernel_size, 2).permute(1, 0, 2)[:, :, (1, 0)].contiguous().view(-1)\n",
    "    distortions = distortion.unsqueeze(0).repeat(bboxes.size(0), 1)\n",
    "    distortions[small_idx] = distortion2\n",
    "    distortions = distortions * offsets\n",
    "    #print(\"distortions\")\n",
    "    #print(distortions)\n",
    "    \n",
    "    noise = torch.randn(distortions.size(0)) < 0\n",
    "    # 产生随机偏移方向。如果box较高，左侧的centroid会向上也会向下偏移（右侧与左侧相反）\n",
    "    # 如果box较宽，上方的点会向左或向右偏移（上方与下方偏移方向相反）\n",
    "    distortions[noise] = distortions[noise] * -1\n",
    "    #print(distortions)\n",
    "\n",
    "    base = torch.cat([bboxes[:, :2]] * (kernel_size ** 2), dim=1)\n",
    "    multiplier = torch.tensor([(2 * i + 1) / kernel_size / 2\n",
    "                               for i in range(kernel_size)]).cuda(bboxes.device.index)\n",
    "    multiplier = torch.stack(torch.meshgrid([multiplier, multiplier]),\n",
    "                             dim=-1)[:, :, (1, 0)].contiguous().view(-1)\n",
    "    multiplier = multiplier.unsqueeze(0).repeat(bboxes.size(0), 1)\n",
    "    center = torch.stack([bboxes[:, 2] - bboxes[:, 0], bboxes[:, 3] - bboxes[:, 1]],\n",
    "                         dim=-1)\n",
    "    center = torch.cat([center] * (kernel_size ** 2), dim=1)\n",
    "    centeroids = base + center * multiplier\n",
    "    #print(\"centeroids\")\n",
    "    #print(centeroids)\n",
    "    centeroids = centeroids + distortions\n",
    "    #print(centeroids)\n",
    "    return centeroids\n",
    "    #return centeroids + centeroids * distortions"
   ]
  },
  {
   "cell_type": "code",
   "execution_count": 170,
   "metadata": {},
   "outputs": [
    {
     "name": "stdout",
     "output_type": "stream",
     "text": [
      "tensor([[195.7132, 180.0000, 235.7132, 180.0000, 275.7132, 180.0000, 200.0000,\n",
      "         210.0000, 240.0000, 210.0000, 280.0000, 210.0000, 204.2868, 240.0000,\n",
      "         244.2868, 240.0000, 284.2868, 240.0000]])\n"
     ]
    },
    {
     "data": {
      "image/png": "[encoded data removed]",
      "text/plain": [
       "<Figure size 576x576 with 1 Axes>"
      ]
     },
     "metadata": {
      "needs_background": "light"
     },
     "output_type": "display_data"
    }
   ],
   "source": [
    "def plot_box(image, prior_box, reg_box):\n",
    "    image = image.data.cpu().numpy().astype(\"uint8\").copy()\n",
    "    \n",
    "    # get prior box and its inter conv points\n",
    "    prior_conv_center = center_conv_point(prior_box, c_max=1) * 500\n",
    "    # Draw conv center\n",
    "    for coord in prior_conv_center.view(-1, 2):\n",
    "        cv2.circle(image, (int(coord[0]), int(coord[1])), 3, (255, 0, 0), 2)\n",
    "    prior_box = prior_box.data.cpu().numpy() * 500\n",
    "    \n",
    "    # get regressed box and its regress conv points\n",
    "    reg_conv_center = center_conv_point(reg_box, c_max=1) * 500\n",
    "    median = int(reg_conv_center.size(1) / 2)\n",
    "    median = reg_conv_center[:, median-1:median+1].repeat(1, 9)\n",
    "    residual = reg_conv_center - median\n",
    "    median = (median + residual * 0.5).clamp(min=0, max=500)\n",
    "    print(median)\n",
    "            \n",
    "    for coord in reg_conv_center.view(-1, 2):\n",
    "        cv2.circle(image, (int(coord[0]), int(coord[1])), 3, (0, 0, 255), 2)\n",
    "        \n",
    "    for coord in median.view(-1, 2):\n",
    "        cv2.circle(image, (int(coord[0]), int(coord[1])), 3, (0, 255, 0), 2)\n",
    "    reg_box = reg_box.data.cpu().numpy() * 500\n",
    "    \n",
    "    # Draw the box out\n",
    "    x1, y1, x2, y2 = prior_box[0]\n",
    "    cv2.rectangle(image, (x1, y1), (x2, y2), (255, 0, 0), 2)\n",
    "    cv2.putText(image,'prior',(x1, y1), cv2.FONT_HERSHEY_SIMPLEX, 1,(255, 0, 0),1,cv2.LINE_AA)\n",
    "    x1, y1, x2, y2 = reg_box[0]\n",
    "    cv2.rectangle(image, (x1, y1), (x2, y2), (0, 0, 255), 2)\n",
    "    cv2.putText(image,'reg',(x1, y1), cv2.FONT_HERSHEY_SIMPLEX, 1,(0, 0, 255),1,cv2.LINE_AA)\n",
    "    plt.imshow(image)\n",
    "    return prior_conv_center, reg_conv_center\n",
    "plt.rcParams['figure.figsize'] = [8, 8]\n",
    "prior_conv_center, reg_conv_center = plot_box(img, prior, reg)\n",
    "deformation_map = reg_conv_center - prior_conv_center"
   ]
  },
  {
   "cell_type": "code",
   "execution_count": null,
   "metadata": {},
   "outputs": [],
   "source": [
    "kernel_size = 3\n",
    "n_sample = 1024\n",
    "base = torch.randn(n_sample, 2).clamp(min=0, max=0.5)\n",
    "bboxes = torch.cat([base, base + torch.randn(n_sample, 2).clamp(min=0.1, max=0.5)], dim=1).contiguous().cuda()\n",
    "print(\"Ground truth:\")\n",
    "print(center_conv_point_vanilla(bboxes))\n",
    "print(\"\")\n",
    "print(\"Parallel:\")\n",
    "print(center_conv_point_parallel(bboxes))\n",
    "\n",
    "torch.sum(center_conv_point_parallel(bboxes) - center_conv_point_vanilla(bboxes).cuda())"
   ]
  },
  {
   "cell_type": "code",
   "execution_count": null,
   "metadata": {},
   "outputs": [],
   "source": [
    "p = torch.tensor([[0.0133, 0.0133, 0.1000, 0.1000]])\n",
    "center_conv_point_parallel(p)"
   ]
  },
  {
   "cell_type": "code",
   "execution_count": null,
   "metadata": {},
   "outputs": [],
   "source": [
    "best_prior_idx = torch.tensor([3, 3, 0, 1, 7, 7])\n",
    "best_truth_idx = torch.tensor([2, 3, 1, 0, 3, 4, 0, 5])"
   ]
  },
  {
   "cell_type": "code",
   "execution_count": null,
   "metadata": {},
   "outputs": [],
   "source": [
    "best_truth_idx[best_prior_idx] = torch.arange(best_prior_idx.size(0))\n",
    "best_truth_idx"
   ]
  },
  {
   "cell_type": "code",
   "execution_count": null,
   "metadata": {},
   "outputs": [],
   "source": [
    "for j in range(best_prior_idx.size(0)):\n",
    "    best_truth_idx[best_prior_idx[j]] = j\n",
    "best_truth_idx"
   ]
  },
  {
   "cell_type": "code",
   "execution_count": null,
   "metadata": {},
   "outputs": [],
   "source": [
    "torch.randn(10) < 0"
   ]
  },
  {
   "cell_type": "code",
   "execution_count": 153,
   "metadata": {},
   "outputs": [
    {
     "data": {
      "image/png": "[encoded data removed]",
      "text/plain": [
       "<Figure size 1152x288 with 1 Axes>"
      ]
     },
     "metadata": {
      "needs_background": "light"
     },
     "output_type": "display_data"
    },
    {
     "name": "stdout",
     "output_type": "stream",
     "text": [
      "[ 0.  1.  2.  3.  4.  5.  6.  7.  8.  9. 10. 11.]\n",
      "[0.04742587 0.0831727  0.14185106 0.23147522 0.35434369 0.5\n",
      " 0.64565631 0.76852478 0.85814894 0.9168273  0.95257413 0.97340301]\n"
     ]
    }
   ],
   "source": [
    "# evenly sampled time at 200ms intervals\n",
    "plt.rcParams['figure.figsize'] = [16, 4]\n",
    "t = np.arange(0., 12., 1)\n",
    "y1 = np.tanh(0.3 * (t - 5)) / 2 + 0.5\n",
    "y2 = np.tanh(0.4 * t)\n",
    "# red dashes, blue squares and green triangles\n",
    "#plt.plot(t, t, 'r-', t, y, 'g-', t, t, 'b-')\n",
    "plt.plot(t, y1, 'g-', t, y2, 'r-')\n",
    "plt.show()\n",
    "print(t)\n",
    "print(y)"
   ]
  }
 ],
 "metadata": {
  "kernelspec": {
   "display_name": "Python 3",
   "language": "python",
   "name": "python3"
  },
  "language_info": {
   "codemirror_mode": {
    "name": "ipython",
    "version": 3
   },
   "file_extension": ".py",
   "mimetype": "text/x-python",
   "name": "python",
   "nbconvert_exporter": "python",
   "pygments_lexer": "ipython3",
   "version": "3.5.2"
  }
 },
 "nbformat": 4,
 "nbformat_minor": 2
}
